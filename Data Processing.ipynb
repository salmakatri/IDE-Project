{
 "cells": [
  {
   "cell_type": "code",
   "execution_count": 10,
   "id": "c676cd75",
   "metadata": {},
   "outputs": [],
   "source": [
    "import pandas as pd\n",
    "from sqlalchemy import create_engine\n",
    "import numpy as np\n",
    "import pickle\n",
    "from datetime import datetime"
   ]
  },
  {
   "cell_type": "code",
   "execution_count": 2,
   "id": "f801a883",
   "metadata": {},
   "outputs": [],
   "source": [
    "#read sql db\n",
    "engine = create_engine(\"sqlite:///sold_houses.db\")"
   ]
  },
  {
   "cell_type": "code",
   "execution_count": 3,
   "id": "421e37d4",
   "metadata": {},
   "outputs": [
    {
     "name": "stderr",
     "output_type": "stream",
     "text": [
      "<ipython-input-3-d72bc75a6b62>:1: SADeprecationWarning: The Engine.table_names() method is deprecated and will be removed in a future release.  Please refer to Inspector.get_table_names(). (deprecated since: 1.4)\n",
      "  engine.table_names()\n"
     ]
    },
    {
     "data": {
      "text/plain": [
       "['houses']"
      ]
     },
     "execution_count": 3,
     "metadata": {},
     "output_type": "execute_result"
    }
   ],
   "source": [
    "engine.table_names()"
   ]
  },
  {
   "cell_type": "code",
   "execution_count": 4,
   "id": "065488c5",
   "metadata": {},
   "outputs": [],
   "source": [
    "df = pd.read_sql('SELECT * FROM houses;', engine)"
   ]
  },
  {
   "cell_type": "code",
   "execution_count": 5,
   "id": "0e09d6a8",
   "metadata": {},
   "outputs": [
    {
     "data": {
      "text/plain": [
       "Index(['index', 'sale_type', 'sold_date', 'property_type', 'address', 'city',\n",
       "       'state', 'zip_code', 'sold_price', 'beds', 'baths', 'location', 'sqft',\n",
       "       'lot_size', 'year_built', 'days_on_market', 'price_sqft', 'HOA',\n",
       "       'status', 'open_house_start', 'open_house_end', 'url', 'source', 'MLS',\n",
       "       'favorite', 'interested', 'latitude', 'longitude'],\n",
       "      dtype='object')"
      ]
     },
     "execution_count": 5,
     "metadata": {},
     "output_type": "execute_result"
    }
   ],
   "source": [
    "df.columns"
   ]
  },
  {
   "cell_type": "code",
   "execution_count": 6,
   "id": "3ad55c54",
   "metadata": {
    "scrolled": false
   },
   "outputs": [
    {
     "data": {
      "text/plain": [
       "(110923, 28)"
      ]
     },
     "execution_count": 6,
     "metadata": {},
     "output_type": "execute_result"
    }
   ],
   "source": [
    "#drop values where no price is available\n",
    "df =df[df['sold_price'].notna()]\n",
    "df.shape"
   ]
  },
  {
   "cell_type": "code",
   "execution_count": 7,
   "id": "3987c4e2",
   "metadata": {},
   "outputs": [],
   "source": [
    "#Impute missing values for sold date\n",
    "df['sold_date'] = df['sold_date']. replace('nan', np.nan)\n",
    "df['sold_date'] = df['sold_date'].fillna(method='ffill')"
   ]
  },
  {
   "cell_type": "code",
   "execution_count": 8,
   "id": "8a117f20",
   "metadata": {},
   "outputs": [],
   "source": [
    "def new_const(row):\n",
    "    if row['year_built'] >= 2021:\n",
    "        return 1\n",
    "    else:\n",
    "        return 0  \n",
    "df['new_const'] = df.apply(new_const, axis=1)"
   ]
  },
  {
   "cell_type": "code",
   "execution_count": 9,
   "id": "9ac1395a",
   "metadata": {},
   "outputs": [],
   "source": [
    "df = df.drop('index', 1)"
   ]
  },
  {
   "cell_type": "code",
   "execution_count": 16,
   "id": "84ff728d",
   "metadata": {},
   "outputs": [],
   "source": [
    "#convert to datetime\n",
    "df['sold_date'] = df['sold_date'].astype(str)\n",
    "def convert_date(row):\n",
    "    return datetime.strptime(row[\"sold_date\"], \"%Y-%m-%d\")\n",
    "df['sold_date'] = df.apply(convert_date, axis=1)"
   ]
  },
  {
   "cell_type": "code",
   "execution_count": 17,
   "id": "81e9d97c",
   "metadata": {},
   "outputs": [
    {
     "name": "stdout",
     "output_type": "stream",
     "text": [
      "<class 'pandas.core.frame.DataFrame'>\n",
      "Int64Index: 110923 entries, 0 to 111635\n",
      "Data columns (total 28 columns):\n",
      " #   Column            Non-Null Count   Dtype         \n",
      "---  ------            --------------   -----         \n",
      " 0   sale_type         110923 non-null  object        \n",
      " 1   sold_date         110923 non-null  datetime64[ns]\n",
      " 2   property_type     110923 non-null  object        \n",
      " 3   address           110498 non-null  object        \n",
      " 4   city              110875 non-null  object        \n",
      " 5   state             110923 non-null  object        \n",
      " 6   zip_code          110921 non-null  object        \n",
      " 7   sold_price        110923 non-null  float64       \n",
      " 8   beds              105120 non-null  float64       \n",
      " 9   baths             103955 non-null  float64       \n",
      " 10  location          105994 non-null  object        \n",
      " 11  sqft              92330 non-null   float64       \n",
      " 12  lot_size          83937 non-null   float64       \n",
      " 13  year_built        94662 non-null   float64       \n",
      " 14  days_on_market    95113 non-null   float64       \n",
      " 15  price_sqft        92330 non-null   float64       \n",
      " 16  HOA               45193 non-null   float64       \n",
      " 17  status            109485 non-null  object        \n",
      " 18  open_house_start  13646 non-null   object        \n",
      " 19  open_house_end    13646 non-null   object        \n",
      " 20  url               110923 non-null  object        \n",
      " 21  source            109485 non-null  object        \n",
      " 22  MLS               109485 non-null  object        \n",
      " 23  favorite          110923 non-null  object        \n",
      " 24  interested        110923 non-null  object        \n",
      " 25  latitude          110923 non-null  float64       \n",
      " 26  longitude         110923 non-null  float64       \n",
      " 27  new_const         110923 non-null  int64         \n",
      "dtypes: datetime64[ns](1), float64(11), int64(1), object(15)\n",
      "memory usage: 24.5+ MB\n"
     ]
    }
   ],
   "source": [
    "df.info()"
   ]
  },
  {
   "cell_type": "code",
   "execution_count": 18,
   "id": "a61b91cd",
   "metadata": {},
   "outputs": [],
   "source": [
    "df.to_csv(\"houses_data_v2.csv\")"
   ]
  },
  {
   "cell_type": "code",
   "execution_count": 20,
   "id": "c5895515",
   "metadata": {},
   "outputs": [],
   "source": [
    "with open('houses_data.pkl', 'wb') as f:\n",
    "    pickle.dump(df, f)"
   ]
  }
 ],
 "metadata": {
  "kernelspec": {
   "display_name": "Python 3",
   "language": "python",
   "name": "python3"
  },
  "language_info": {
   "codemirror_mode": {
    "name": "ipython",
    "version": 3
   },
   "file_extension": ".py",
   "mimetype": "text/x-python",
   "name": "python",
   "nbconvert_exporter": "python",
   "pygments_lexer": "ipython3",
   "version": "3.8.8"
  }
 },
 "nbformat": 4,
 "nbformat_minor": 5
}
