{
 "cells": [
  {
   "cell_type": "code",
   "execution_count": 81,
   "id": "c676cd75",
   "metadata": {},
   "outputs": [],
   "source": [
    "import pandas as pd\n",
    "from sqlalchemy import create_engine\n",
    "import numpy as np\n",
    "import pickle"
   ]
  },
  {
   "cell_type": "code",
   "execution_count": 70,
   "id": "f801a883",
   "metadata": {},
   "outputs": [],
   "source": [
    "#read sql db\n",
    "engine = create_engine(\"sqlite:///sold_houses.db\")"
   ]
  },
  {
   "cell_type": "code",
   "execution_count": 71,
   "id": "421e37d4",
   "metadata": {},
   "outputs": [
    {
     "name": "stderr",
     "output_type": "stream",
     "text": [
      "<ipython-input-71-d72bc75a6b62>:1: SADeprecationWarning: The Engine.table_names() method is deprecated and will be removed in a future release.  Please refer to Inspector.get_table_names(). (deprecated since: 1.4)\n",
      "  engine.table_names()\n"
     ]
    },
    {
     "data": {
      "text/plain": [
       "['houses']"
      ]
     },
     "execution_count": 71,
     "metadata": {},
     "output_type": "execute_result"
    }
   ],
   "source": [
    "engine.table_names()"
   ]
  },
  {
   "cell_type": "code",
   "execution_count": 72,
   "id": "065488c5",
   "metadata": {},
   "outputs": [],
   "source": [
    "df = pd.read_sql('SELECT * FROM houses;', engine)"
   ]
  },
  {
   "cell_type": "code",
   "execution_count": 73,
   "id": "0e09d6a8",
   "metadata": {},
   "outputs": [
    {
     "data": {
      "text/plain": [
       "Index(['index', 'sale_type', 'sold_date', 'property_type', 'address', 'city',\n",
       "       'state', 'zip_code', 'sold_price', 'beds', 'baths', 'location', 'sqft',\n",
       "       'lot_size', 'year_built', 'days_on_market', 'price_sqft', 'HOA',\n",
       "       'status', 'open_house_start', 'open_house_end', 'url', 'source', 'MLS',\n",
       "       'favorite', 'interested', 'latitude', 'longitude'],\n",
       "      dtype='object')"
      ]
     },
     "execution_count": 73,
     "metadata": {},
     "output_type": "execute_result"
    }
   ],
   "source": [
    "df.columns"
   ]
  },
  {
   "cell_type": "code",
   "execution_count": 74,
   "id": "3ad55c54",
   "metadata": {
    "scrolled": false
   },
   "outputs": [
    {
     "data": {
      "text/plain": [
       "(110923, 28)"
      ]
     },
     "execution_count": 74,
     "metadata": {},
     "output_type": "execute_result"
    }
   ],
   "source": [
    "#drop values where no price is available\n",
    "df =df[df['sold_price'].notna()]\n",
    "df.shape"
   ]
  },
  {
   "cell_type": "code",
   "execution_count": 75,
   "id": "3987c4e2",
   "metadata": {},
   "outputs": [],
   "source": [
    "#Impute missing values for sold date\n",
    "df['sold_date'] = df['sold_date']. replace('nan', np.nan)\n",
    "df['sold_date'] = df['sold_date'].fillna(method='ffill')"
   ]
  },
  {
   "cell_type": "code",
   "execution_count": 77,
   "id": "8a117f20",
   "metadata": {},
   "outputs": [],
   "source": [
    "def new_const(row):\n",
    "    if row['year_built'] >= 2021:\n",
    "        return 1\n",
    "    else:\n",
    "        return 0  \n",
    "df['new_const'] = df.apply(new_const, axis=1)"
   ]
  },
  {
   "cell_type": "code",
   "execution_count": 79,
   "id": "9ac1395a",
   "metadata": {},
   "outputs": [],
   "source": [
    "df = df.drop('index', 1)"
   ]
  },
  {
   "cell_type": "code",
   "execution_count": 82,
   "id": "a61b91cd",
   "metadata": {},
   "outputs": [],
   "source": [
    "df.to_csv(\"houses_data.csv\")"
   ]
  }
 ],
 "metadata": {
  "kernelspec": {
   "display_name": "Python 3",
   "language": "python",
   "name": "python3"
  },
  "language_info": {
   "codemirror_mode": {
    "name": "ipython",
    "version": 3
   },
   "file_extension": ".py",
   "mimetype": "text/x-python",
   "name": "python",
   "nbconvert_exporter": "python",
   "pygments_lexer": "ipython3",
   "version": "3.8.8"
  }
 },
 "nbformat": 4,
 "nbformat_minor": 5
}
