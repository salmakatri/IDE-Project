{
 "cells": [
  {
   "cell_type": "code",
   "execution_count": 1,
   "id": "8aec6be8",
   "metadata": {},
   "outputs": [],
   "source": [
    "from datetime import datetime\n",
    "from bs4 import BeautifulSoup\n",
    "import requests\n",
    "import time, os\n",
    "import pickle\n",
    "import pandas as pd\n",
    "import glob\n",
    "from selenium import webdriver\n",
    "from selenium.webdriver.common.keys import Keys\n",
    "from sqlalchemy import create_engine"
   ]
  },
  {
   "cell_type": "code",
   "execution_count": null,
   "id": "91270102",
   "metadata": {},
   "outputs": [],
   "source": [
    "chromedriver = \"C:\\Program Files (x86)\\Google\\Chrome\\Application\\chromedriver\" # path to the chromedriver executable\n",
    "os.environ[\"webdriver.chrome.driver\"] = chromedriver"
   ]
  },
  {
   "cell_type": "code",
   "execution_count": null,
   "id": "c1783022",
   "metadata": {},
   "outputs": [],
   "source": [
    "def download_urls(main_url, chromedriver):\n",
    "    ''' Function that takes in the County main sold homes page, goes through other county pages and download all csv data'''\n",
    "    time.sleep(2)\n",
    "    driver = webdriver.Chrome(chromedriver)\n",
    "    driver.get(main_url)\n",
    "    time.sleep(2)\n",
    "    soup = BeautifulSoup(driver.page_source, 'html.parser')\n",
    "    download = \"https://www.redfin.com\" + soup.find(class_='DownloadAndSave').find('a')['href']\n",
    "    urls= soup.find(class_=\"PagingControls\").find_all('a')\n",
    "    for index, i in enumerate(urls):\n",
    "        urls[index] = i['href']\n",
    "    driver.close()\n",
    "    time.sleep(1)\n",
    "    driver = webdriver.Chrome(chromedriver)\n",
    "    driver.get(download)\n",
    "    time.sleep(2)\n",
    "    driver.close()\n",
    "    for i in urls[1:]:\n",
    "        driver = webdriver.Chrome(chromedriver)\n",
    "        url = \"https://www.redfin.com\" + i\n",
    "        driver.get(url)\n",
    "        time.sleep(2)\n",
    "        soup = BeautifulSoup(driver.page_source, 'html.parser')\n",
    "        download = \"https://www.redfin.com\" + soup.find(class_='DownloadAndSave').find('a')['href']\n",
    "        driver.close()\n",
    "        time.sleep(1)\n",
    "        driver = webdriver.Chrome(chromedriver)\n",
    "        driver.get(download)\n",
    "        time.sleep(2)\n",
    "        driver.close()  "
   ]
  },
  {
   "cell_type": "code",
   "execution_count": null,
   "id": "7d48dd52",
   "metadata": {},
   "outputs": [],
   "source": [
    "def get_house_info(url, chromedriver):\n",
    "    ''' Function that takes in the url of a sold home page and returns all house info in a dictionary'''\n",
    "    time.sleep(1)\n",
    "    driver = webdriver.Chrome(chromedriver)\n",
    "    driver.get(url)\n",
    "    time.sleep(2)\n",
    "    soup = BeautifulSoup(driver.page_source, 'html.parser')\n",
    "    house_facts = {}\n",
    "    \n",
    "    if len(soup.find_all(class_=\"row PropertyHistoryEventRow\")) != 0:\n",
    "        house_facts['Year Built'] = soup.find(class_=\"facts-table\").find(text=\"Year Built\").next.text\n",
    "        if house_facts['Year Built'] == \"—\":\n",
    "            house_facts['Year Built'] = soup.find(text=\"Year Built\").next.text\n",
    "        house_facts['Style'] = soup.find(class_=\"facts-table\").find(text=\"Style\").next.text\n",
    "        house_facts['Year Renovated'] = soup.find(class_=\"facts-table\").find(text=\"Year Renovated\").next.text\n",
    "        house_facts['County'] = soup.find(class_=\"facts-table\").find(text=\"County\").next.text\n",
    "\n",
    "\n",
    "        if soup.find(class_=\"sold-row row PropertyHistoryEventRow\") is None:\n",
    "            house_facts['sold_date'] = soup.find(class_= \"home-sash-container small\").next.text[5:]\n",
    "        else:\n",
    "            house_facts['sold_date'] = soup.find(class_=\"sold-row row PropertyHistoryEventRow\").find(class_=\"col-4\").text[:-4]\n",
    "        if soup.find(class_=\"sold-row row PropertyHistoryEventRow\") is None: \n",
    "            house_facts['sold_price'] = soup.find(class_=\"statsValue\").text\n",
    "        else:\n",
    "            house_facts['sold_price'] = soup.find(class_=\"sold-row row PropertyHistoryEventRow\").find(class_=\"price-col number\").text.strip()\n",
    "        for i in soup.find_all(class_=\"row PropertyHistoryEventRow\"):\n",
    "            if \"Listed\" in i.find(class_=\"description-col col-4\").find('div').text:\n",
    "                house_facts['listed_price'] = i.find(class_=\"price-col number\").text\n",
    "                house_facts['listed_date'] = i.find(class_=\"col-4\").text[:-4]\n",
    "                break \n",
    "\n",
    "        try:\n",
    "            house_facts['Redfin_estimate'] = soup.find(text = \"Redfin Estimate\").parent.parent.parent.parent.find(class_=\"content text-right\").text\n",
    "        except:\n",
    "            house_facts['Redfin_estimate'] = \"NA\"\n",
    "    \n",
    "        driver.close()\n",
    "        \n",
    "        return house_facts\n",
    "    else:\n",
    "        return 0\n",
    "    "
   ]
  },
  {
   "cell_type": "code",
   "execution_count": null,
   "id": "ff73646f",
   "metadata": {},
   "outputs": [],
   "source": [
    "#Main pages for counties\n",
    "counties = [\"https://www.redfin.com/county/118/WA/King-County/recently-sold\",\n",
    "            \"https://www.redfin.com/county/321/CA/Los-Angeles-County/recently-sold\",\n",
    "            \"https://www.redfin.com/county/727/IL/Cook-County/recently-sold\",\n",
    "            \"https://www.redfin.com/county/2740/TX/Harris-County/recently-sold\",\n",
    "            \"https://www.redfin.com/county/220/AZ/Maricopa-County/recently-sold\",\n",
    "            \"https://www.redfin.com/city/16904/CA/San-Diego/recently-sold\",\n",
    "            \"https://www.redfin.com/county/332/CA/Orange-County/recently-sold\",\n",
    "            \"https://www.redfin.com/county/479/FL/Miami-Dade-County/recently-sold\",\n",
    "            \"https://www.redfin.com/city/30794/TX/Dallas/recently-sold\",\n",
    "            \"https://www.redfin.com/county/1968/NY/Kings-County/recently-sold\",\n",
    "            \"https://www.redfin.com/city/15935/CA/Riverside/recently-sold\",\n",
    "            \"https://www.redfin.com/neighborhood/43309/NY/New-York/Queens/recently-sold\",\n",
    "            \"https://www.redfin.com/city/16659/CA/San-Bernardino/recently-sold\",\n",
    "            \"https://www.redfin.com/county/2859/TX/Tarrant-County/recently-sold\",\n",
    "            \"https://www.redfin.com/county/2654/TX/Bexar-County/recently-sold\",\n",
    "            \"https://www.redfin.com/county/442/FL/Broward-County/recently-sold\",\n",
    "            \"https://www.redfin.com/city/17675/CA/Santa-Clara/recently-sold\",\n",
    "            \"https://www.redfin.com/county/1429/MI/Wayne-County/recently-sold\",\n",
    "            \"https://www.redfin.com/county/303/CA/Alameda-County/recently-sold\",\n",
    "            \"https://www.redfin.com/city/30749/NY/New-York/recently-sold\",\n",
    "            \"https://www.redfin.com/county/1342/MA/Middlesex-County/recently-sold\",\n",
    "            \"https://www.redfin.com/county/2411/PA/Philadelphia-County/recently-sold\",\n",
    "            \"https://www.redfin.com/county/336/CA/Sacramento-County/recently-sold\",\n",
    "            \"https://www.redfin.com/county/486/FL/Palm-Beach-County/recently-sold\"]"
   ]
  },
  {
   "cell_type": "code",
   "execution_count": null,
   "id": "486574b5",
   "metadata": {},
   "outputs": [],
   "source": [
    "#download counties files\n",
    "for county in counties:\n",
    "    download_urls(county, chromedriver)"
   ]
  },
  {
   "cell_type": "code",
   "execution_count": 2,
   "id": "50224fff",
   "metadata": {},
   "outputs": [],
   "source": [
    "#Aggregate all downloaded data and load into pandas dataframe\n",
    "files = []\n",
    "for file in glob.glob(\"/Users/elmog/Downloads/redfin*\"):\n",
    "    files.append(pd.read_csv(file))\n",
    "df = pd.concat(files)  "
   ]
  },
  {
   "cell_type": "code",
   "execution_count": 3,
   "id": "cc9fbc48",
   "metadata": {},
   "outputs": [],
   "source": [
    "#change column names\n",
    "df.columns = ['sale_type', 'sold_date', 'property_type', 'address', 'city',\n",
    "       'state', 'zip_code', 'sold_price', 'beds', 'baths',\n",
    "       'location', 'sqft', 'lot_size', 'year_built', 'days_on_market',\n",
    "       'price_sqft', 'HOA', 'status', 'open_house_start',\n",
    "       'open_house_end','url','source', 'MLS', 'favorite', 'interested', 'latitude', 'longitude']"
   ]
  },
  {
   "cell_type": "code",
   "execution_count": null,
   "id": "18d1880b",
   "metadata": {},
   "outputs": [],
   "source": [
    "# #get additional homes info (work in progress, not included in current version)\n",
    "# houses_urls = df.url.tolist()\n",
    "# house_info = []\n",
    "# for house in houses_urls:\n",
    "#     house_info.append(get_house_info(house, chromedriver))\n",
    "# #merge two dataframes to add new info"
   ]
  },
  {
   "cell_type": "code",
   "execution_count": 4,
   "id": "b2d4b586",
   "metadata": {},
   "outputs": [],
   "source": [
    "#convert sold_date to datetime\n",
    "df['sold_date'] = df['sold_date'].astype(str)\n",
    "\n",
    "def convert_date(row):\n",
    "    try:\n",
    "        l = row['sold_date'].split('-')\n",
    "        l[0] = l[0][:3]\n",
    "        l = \" \".join(l)\n",
    "        l = datetime.strptime(l, '%b %d %Y').date()\n",
    "    except:\n",
    "        l = row['sold_date']\n",
    "    return l\n",
    "df['sold_date'] = df.apply(convert_date, axis=1)"
   ]
  },
  {
   "cell_type": "code",
   "execution_count": 9,
   "id": "bff32c84",
   "metadata": {},
   "outputs": [
    {
     "name": "stdout",
     "output_type": "stream",
     "text": [
      "2022-04-20 01:22:02,733 INFO sqlalchemy.engine.Engine PRAGMA main.table_info(\"houses\")\n",
      "2022-04-20 01:22:02,736 INFO sqlalchemy.engine.Engine [raw sql] ()\n",
      "2022-04-20 01:22:02,740 INFO sqlalchemy.engine.Engine PRAGMA temp.table_info(\"houses\")\n",
      "2022-04-20 01:22:02,741 INFO sqlalchemy.engine.Engine [raw sql] ()\n",
      "2022-04-20 01:22:02,755 INFO sqlalchemy.engine.Engine \n",
      "CREATE TABLE houses (\n",
      "\t\"index\" BIGINT, \n",
      "\tsale_type TEXT, \n",
      "\tsold_date TEXT, \n",
      "\tproperty_type TEXT, \n",
      "\taddress TEXT, \n",
      "\tcity TEXT, \n",
      "\tstate TEXT, \n",
      "\tzip_code TEXT, \n",
      "\tsold_price FLOAT, \n",
      "\tbeds FLOAT, \n",
      "\tbaths FLOAT, \n",
      "\tlocation TEXT, \n",
      "\tsqft FLOAT, \n",
      "\tlot_size FLOAT, \n",
      "\tyear_built FLOAT, \n",
      "\tdays_on_market FLOAT, \n",
      "\tprice_sqft FLOAT, \n",
      "\t\"HOA\" FLOAT, \n",
      "\tstatus TEXT, \n",
      "\topen_house_start FLOAT, \n",
      "\topen_house_end FLOAT, \n",
      "\turl TEXT, \n",
      "\tsource TEXT, \n",
      "\t\"MLS\" TEXT, \n",
      "\tfavorite TEXT, \n",
      "\tinterested TEXT, \n",
      "\tlatitude FLOAT, \n",
      "\tlongitude FLOAT\n",
      ")\n",
      "\n",
      "\n",
      "2022-04-20 01:22:02,758 INFO sqlalchemy.engine.Engine [no key 0.00326s] ()\n",
      "2022-04-20 01:22:02,809 INFO sqlalchemy.engine.Engine COMMIT\n",
      "2022-04-20 01:22:02,811 INFO sqlalchemy.engine.Engine CREATE INDEX ix_houses_index ON houses (\"index\")\n",
      "2022-04-20 01:22:02,814 INFO sqlalchemy.engine.Engine [no key 0.00212s] ()\n",
      "2022-04-20 01:22:02,832 INFO sqlalchemy.engine.Engine COMMIT\n",
      "2022-04-20 01:22:03,065 INFO sqlalchemy.engine.Engine BEGIN (implicit)\n",
      "2022-04-20 01:22:06,231 INFO sqlalchemy.engine.Engine INSERT INTO houses (\"index\", sale_type, sold_date, property_type, address, city, state, zip_code, sold_price, beds, baths, location, sqft, lot_size, year_built, days_on_market, price_sqft, \"HOA\", status, open_house_start, open_house_end, url, source, \"MLS\", favorite, interested, latitude, longitude) VALUES (?, ?, ?, ?, ?, ?, ?, ?, ?, ?, ?, ?, ?, ?, ?, ?, ?, ?, ?, ?, ?, ?, ?, ?, ?, ?, ?, ?)\n",
      "2022-04-20 01:22:06,232 INFO sqlalchemy.engine.Engine [generated in 2.73927s] ((0, 'PAST SALE', datetime.date(2022, 3, 25), 'Single Family Residential', '1601 Newport Ave NE', 'Renton', 'WA', 98056, 846100.0, 3.0, 2.0, 'Highlands', 1540.0, 9147.0, 1958.0, None, 549.0, None, 'Sold', None, None, 'https://www.redfin.com/WA/Renton/1601-Newport-Ave-NE-98056/home/410374', 'NWMLS', 1889138.0, 'N', 'Y', 47.5063214, -122.1741431), (1, 'PAST SALE', datetime.date(2022, 4, 8), 'Condo/Co-op', '19500 Ballinger Way NE #407', 'Shoreline', 'WA', 98155, 335000.0, 1.0, 1.0, 'Shoreline', 744.0, None, 2004.0, None, 450.0, 300.0, 'Sold', None, None, 'https://www.redfin.com/WA/Shoreline/19500-Ballinger-Way-NE-98155/unit-407/home/12093114', 'NWMLS', 1900455.0, 'N', 'Y', 47.770785, -122.3031338), (2, 'PAST SALE', datetime.date(2022, 4, 8), 'Single Family Residential', '13220 NE 110th Pl', 'Redmond', 'WA', 98052, 2510000.0, 4.0, 4.0, 'North Rose Hill', 3258.0, 5686.0, 2019.0, None, 770.0, 61.0, 'Sold', None, None, 'https://www.redfin.com/WA/Redmond/13220-NE-110th-Pl-98052/home/145710232', 'NWMLS', 1895050.0, 'N', 'Y', 47.6995846, -122.1642708), (3, 'PAST SALE', datetime.date(2022, 3, 23), 'Single Family Residential', '9628 35th Ave SW', 'Seattle', 'WA', 98126, 470000.0, 2.0, 1.0, 'Arbor Heights', 670.0, 6960.0, 1942.0, None, 701.0, None, 'Sold', None, None, 'https://www.redfin.com/WA/Seattle/9628-35th-Ave-SW-98126/home/154970', 'NWMLS', 1880811.0, 'N', 'Y', 47.5166121, -122.3765053), (4, 'PAST SALE', datetime.date(2022, 3, 24), 'Condo/Co-op', '108 5th Ave S #613', 'Seattle', 'WA', 98104, 393000.0, 1.0, 1.0, 'International District', 569.0, None, 2001.0, None, 691.0, 383.0, 'Sold', None, None, 'https://www.redfin.com/WA/Seattle/108-5th-Ave-S-98104/unit-613/home/12092426', 'NWMLS', 1886432.0, 'N', 'Y', 47.6013297, -122.3272284), (5, 'PAST SALE', datetime.date(2022, 3, 21), 'Single Family Residential', '7312 Alonzo Ave NW', 'Seattle', 'WA', 98117, 725000.0, 2.0, 1.0, 'Whittier', 720.0, 2500.0, 1947.0, None, 1007.0, None, 'Sold', None, None, 'https://www.redfin.com/WA/Seattle/7312-Alonzo-Ave-NW-98117/home/495657', 'NWMLS', 1890753.0, 'N', 'Y', 47.6818899, -122.3743856), (6, 'PAST SALE', datetime.date(2022, 3, 21), 'Single Family Residential', '37533 27th Pl S', 'Federal Way', 'WA', 98003, 810000.0, 4.0, 2.5, 'Federal Way', 2570.0, 7841.0, 2004.0, None, 315.0, 50.0, 'Sold', None, None, 'https://www.redfin.com/WA/Federal-Way/37533-27th-Pl-S-98003/home/366308', 'NWMLS', 1892383.0, 'N', 'Y', 47.2642281, -122.3008809), (7, 'PAST SALE', datetime.date(2022, 4, 7), 'Single Family Residential', '11212 116th Pl NE', 'Kirkland', 'WA', 98033, 2711500.0, 4.0, 3.0, 'Juanita', 3414.0, 8500.0, 2017.0, None, 794.0, None, 'Sold', None, None, 'https://www.redfin.com/WA/Kirkland/11212-116th-Pl-NE-98033/home/146396781', 'NWMLS', 1886412.0, 'N', 'Y', 47.7006124, -122.1856813)  ... displaying 10 of 57305 total bound parameter sets ...  (348, 'PAST SALE', datetime.date(2022, 4, 4), 'Single Family Residential', '239 Nevada', 'Tewksbury', 'MA', 1876, 745000.0, 4.0, 2.5, 'Tewksbury', 2500.0, 15681.0, 1989.0, None, 298.0, None, 'Sold', None, None, 'https://www.redfin.com/MA/Tewksbury/239-Nevada-Rd-01876/home/8732007', 'MLS PIN', 72855134.0, 'N', 'Y', 42.5728443, -71.20823), (349, 'PAST SALE', datetime.date(2022, 3, 30), 'Condo/Co-op', '30 Juniper Ln #30', 'Tewksbury', 'MA', 1876, 400000.0, 2.0, 1.5, 'Tewksbury', 1347.0, 100.0, 1994.0, None, 297.0, 125.0, 'Sold', None, None, 'https://www.redfin.com/MA/Tewksbury/30-Juniper-Ln-01876/unit-30/home/138334945', 'MLS PIN', 72942838.0, 'N', 'Y', 42.6206812, -71.2325499))\n",
      "2022-04-20 01:22:08,090 INFO sqlalchemy.engine.Engine COMMIT\n"
     ]
    }
   ],
   "source": [
    "#save into sql db\n",
    "engine = create_engine('sqlite:///sold_houses.db', echo=True)\n",
    "sqlite_connection =engine.connect()\n",
    "sqlite_table = \"houses\"\n",
    "df.to_sql(sqlite_table, sqlite_connection, if_exists = 'append')"
   ]
  },
  {
   "cell_type": "code",
   "execution_count": 10,
   "id": "aaa41543",
   "metadata": {},
   "outputs": [],
   "source": [
    "sqlite_connection.close()"
   ]
  }
 ],
 "metadata": {
  "kernelspec": {
   "display_name": "Python 3",
   "language": "python",
   "name": "python3"
  },
  "language_info": {
   "codemirror_mode": {
    "name": "ipython",
    "version": 3
   },
   "file_extension": ".py",
   "mimetype": "text/x-python",
   "name": "python",
   "nbconvert_exporter": "python",
   "pygments_lexer": "ipython3",
   "version": "3.8.8"
  }
 },
 "nbformat": 4,
 "nbformat_minor": 5
}
